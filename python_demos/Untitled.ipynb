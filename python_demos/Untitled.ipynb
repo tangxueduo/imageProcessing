{
 "cells": [
  {
   "cell_type": "code",
   "execution_count": 1,
   "id": "bc2295ac",
   "metadata": {},
   "outputs": [],
   "source": [
    "import numpy as np\n",
    "mask = np.zeros((2, 2))\n",
    "\n",
    "# -------------------单通道复制三份， 变成三通道-------------\n",
    "mask = np.repeat(mask[:,:,np.newaxis],3,2)\n",
    "\n"
   ]
  },
  {
   "cell_type": "code",
   "execution_count": 4,
   "id": "7075bb00",
   "metadata": {},
   "outputs": [
    {
     "name": "stdout",
     "output_type": "stream",
     "text": [
      "(2, 2, 3)\n"
     ]
    }
   ],
   "source": [
    "print(mask.shape)"
   ]
  },
  {
   "cell_type": "code",
   "execution_count": 11,
   "id": "89bd17f6",
   "metadata": {},
   "outputs": [
    {
     "name": "stdout",
     "output_type": "stream",
     "text": [
      "(514, 514, 3)\n",
      "257 257\n"
     ]
    }
   ],
   "source": [
    "# -------------原图加黑边-----------\n",
    "h, w = 512, 512\n",
    "origin_arr = np.ones((h, w, 3))\n",
    "extdata = np.zeros((h+2, w+2, 3))\n",
    "extdata[1:h+1,1:w+1] = origin_arr\n",
    "print(extdata.shape)\n",
    "# 加黑边后的origin\n",
    "i = h//2 + 1\n",
    "j = w//2 + 1\n",
    "print(i, j)\n"
   ]
  },
  {
   "cell_type": "code",
   "execution_count": null,
   "id": "71f4c3b8",
   "metadata": {},
   "outputs": [],
   "source": [
    "# -----------------最近点差值------------"
   ]
  },
  {
   "cell_type": "code",
   "execution_count": 13,
   "id": "e1c75c0f",
   "metadata": {},
   "outputs": [],
   "source": [
    "# data[np.clip(np.floor(j),0,ht0-1).astype(np.int32),np.clip(np.floor(i),0,wd0-1).astype(np.int32)].astype(np.uint8)"
   ]
  },
  {
   "cell_type": "code",
   "execution_count": 14,
   "id": "eeeef276",
   "metadata": {},
   "outputs": [],
   "source": [
    "# -------------------- 线性变化 numpy -------------------------\n",
    "import cv2\n",
    "def linear_transformation(src, a):\n",
    "    M, N = src.shape\n",
    "    points = np.mgrid[0:N, 0:M].reshape((2, M*N))\n",
    "    new_points = np.linalg.inv(a).dot(points).round().astype(int)\n",
    "    x, y = new_points.reshape((2, M, N), order='F')\n",
    "    indices = x + N*y\n",
    "    return np.take(src, indices, mode='wrap')"
   ]
  },
  {
   "cell_type": "code",
   "execution_count": null,
   "id": "8ee18d70",
   "metadata": {},
   "outputs": [],
   "source": [
    "a = []\n",
    "a = np.ones((512, 512, 3))\n",
    "cv2.imshow(\"origin\", a)"
   ]
  }
 ],
 "metadata": {
  "kernelspec": {
   "display_name": "Python 3 (ipykernel)",
   "language": "python",
   "name": "python3"
  },
  "language_info": {
   "codemirror_mode": {
    "name": "ipython",
    "version": 3
   },
   "file_extension": ".py",
   "mimetype": "text/x-python",
   "name": "python",
   "nbconvert_exporter": "python",
   "pygments_lexer": "ipython3",
   "version": "3.7.5"
  }
 },
 "nbformat": 4,
 "nbformat_minor": 5
}
